{
  "nbformat": 4,
  "nbformat_minor": 0,
  "metadata": {
    "colab": {
      "provenance": [],
      "authorship_tag": "ABX9TyM7b+thEqGdjmM/ytNnWOMD",
      "include_colab_link": true
    },
    "kernelspec": {
      "name": "python3",
      "display_name": "Python 3"
    },
    "language_info": {
      "name": "python"
    }
  },
  "cells": [
    {
      "cell_type": "markdown",
      "metadata": {
        "id": "view-in-github",
        "colab_type": "text"
      },
      "source": [
        "<a href=\"https://colab.research.google.com/github/tiagopessoalima/ED1/blob/main/Apoio_01_(ED1).ipynb\" target=\"_parent\"><img src=\"https://colab.research.google.com/assets/colab-badge.svg\" alt=\"Open In Colab\"/></a>"
      ]
    },
    {
      "cell_type": "markdown",
      "source": [
        "# **Recursão**"
      ],
      "metadata": {
        "id": "o7DCMKqtzf1E"
      }
    },
    {
      "cell_type": "markdown",
      "source": [
        "A recursão constitui um conceito fundamental em ciência da computação e programação, caracterizado pela chamada de uma função a si própria com o objetivo de resolver um problema. Essa abordagem representa uma alternativa à iteração, adequada para problemas que podem ser decompostos em subproblemas menores estruturalmente semelhantes ao problema original."
      ],
      "metadata": {
        "id": "h5QgL7-lzqUf"
      }
    },
    {
      "cell_type": "markdown",
      "source": [
        "## **O que é Recursão?**"
      ],
      "metadata": {
        "id": "Jsh7BHA93ir5"
      }
    },
    {
      "cell_type": "markdown",
      "source": [
        "Uma função recursiva é definida como aquela que invoca a si mesma, de forma direta ou indireta. Para garantir correção e evitar a ocorrência de laços infinitos, a recursão deve conter dois componentes fundamentais:\n",
        "\n",
        "1. **Caso base (ou condição de parada):** estabelece o critério em que a função interrompe o processo recursivo. A ausência de um caso base resulta em chamadas indefinidas, culminando em estouro de pilha (*stack overflow*).\n",
        "\n",
        "2. **Passo recursivo:** a chamada da função a si própria com uma entrada reduzida/transformada, de modo a aproximar o problema do caso base. Cada iteração recursiva deve operar sobre uma instância menor do problema, assegurando a terminação do processo."
      ],
      "metadata": {
        "id": "LejkC8Eu3n0t"
      }
    },
    {
      "cell_type": "markdown",
      "source": [
        "## **Como a Recursão Funciona?**"
      ],
      "metadata": {
        "id": "FbpziIUl9CBE"
      }
    },
    {
      "cell_type": "markdown",
      "source": [
        "Quando uma função recursiva é invocada, uma nova instância é registrada na pilha de chamadas (call stack). Cada chamada subsequente decorrente do passo recursivo é igualmente empilhada. Ao atingir o caso base, inicia-se o processo de desempilhamento: as chamadas são resolvidas na ordem inversa à de sua inserção, seguindo a política LIFO (Last In, First Out), com o retorno dos valores correspondentes e a liberação dos respectivos espaços na pilha."
      ],
      "metadata": {
        "id": "Hce5nmut9dMF"
      }
    },
    {
      "cell_type": "markdown",
      "source": [
        "## **Vantagens da Recursão**"
      ],
      "metadata": {
        "id": "Ss9KG-Ca94aY"
      }
    },
    {
      "cell_type": "markdown",
      "source": [
        "*   **Redução de Código**: Em alguns casos, a recursão pode levar a um código mais curto e elegante.\n",
        "*   **Estruturas de Dados**: Forma intuitiva de trabalhar com estruturas de dados que são naturalmente recursivas.\n",
        "*   **Clareza e Elegância**: Para certos problemas (como travessia de árvores, cálculo de fatoriais, sequências de Fibonacci), a solução recursiva pode ser mais natural, concisa e fácil de entender do que uma solução iterativa."
      ],
      "metadata": {
        "id": "NXb5rwes1Es6"
      }
    },
    {
      "cell_type": "markdown",
      "source": [
        "## **Desvantagens da Recursão**"
      ],
      "metadata": {
        "id": "O91FpejB1fW5"
      }
    },
    {
      "cell_type": "markdown",
      "source": [
        "*   **Consumo de Memória**: Cada chamada recursiva adiciona um novo quadro à pilha de chamadas. Para problemas com muitas chamadas recursivas, isso pode levar a um alto consumo de memória e, potencialmente, a um erro de estouro de pilha.\n",
        "*   **Desempenho**: A sobrecarga de gerenciar a pilha de chamadas pode tornar as soluções recursivas mais lentas do que suas contrapartes iterativas, especialmente em linguagens que não otimizam a recursão de cauda (tail recursion optimization).\n",
        "*   **Depuração Complexa**: Rastrear o fluxo de execução de uma função recursiva pode ser mais desafiador do que o de uma função iterativa, tornando a depuração mais difícil."
      ],
      "metadata": {
        "id": "dKbxrU_61hpd"
      }
    },
    {
      "cell_type": "markdown",
      "source": [
        "## **Quando Usar Recursão?**"
      ],
      "metadata": {
        "id": "g2OSj6Kk-6Fl"
      }
    },
    {
      "cell_type": "markdown",
      "source": [
        "*   O problema pode ser naturalmente dividido em subproblemas menores do mesmo tipo.\n",
        "*   A estrutura de dados sendo processada é recursiva (e.g., árvores, listas encadeadas).\n",
        "*   A clareza e a elegância do código são mais importantes do que a otimização de desempenho ou memória."
      ],
      "metadata": {
        "id": "x4KB5D7n14sm"
      }
    },
    {
      "cell_type": "markdown",
      "source": [
        "> **Nota:** Em muitos casos, um problema resolvido recursivamente também pode ser resolvido iterativamente. A escolha entre recursão e iteração depende da natureza do problema, dos requisitos de desempenho e da preferência do programador."
      ],
      "metadata": {
        "id": "b2slUrpM2CY4"
      }
    },
    {
      "cell_type": "markdown",
      "source": [
        "## **Exemplos Práticos de Recursão**"
      ],
      "metadata": {
        "id": "34u1oIsz2Scy"
      }
    },
    {
      "cell_type": "markdown",
      "source": [
        "Para ilustrar o conceito de recursão, vamos explorar alguns exemplos clássicos."
      ],
      "metadata": {
        "id": "d5SMxTtA2Zcm"
      }
    },
    {
      "cell_type": "markdown",
      "source": [
        "### **1. Fatorial de um Número**"
      ],
      "metadata": {
        "id": "lHGxs1dM2bty"
      }
    },
    {
      "cell_type": "markdown",
      "source": [
        "O fatorial de um número inteiro não negativo `n`, denotado por `n!`, é o produto de todos os inteiros positivos menores ou iguais a `n`.\n",
        "> **Nota:** O fatorial de 0 é 1 (`0! = 1`).\n",
        "\n",
        "**Definição Matemática:**\n",
        "\n",
        "*   `n! = n * (n-1)!` para `n > 0`\n",
        "*   `0! = 1` (Caso Base)"
      ],
      "metadata": {
        "id": "-xrcB5a42lyd"
      }
    },
    {
      "cell_type": "code",
      "source": [
        "def fatorial_recursivo(n):\n",
        "    # Caso Base: Se n for 0, o fatorial é 1\n",
        "    if n == 0:\n",
        "        return 1\n",
        "    # Passo Recursivo: n * fatorial de (n-1)\n",
        "    else:\n",
        "        return n * fatorial_recursivo(n - 1)"
      ],
      "metadata": {
        "id": "kMZ32fzt-8_I"
      },
      "execution_count": 1,
      "outputs": []
    },
    {
      "cell_type": "code",
      "source": [
        "# Testando a função\n",
        "print(f\"Fatorial de 5: {fatorial_recursivo(5)}\")  # Saída: Fatorial de 5: 120\n",
        "print(f\"Fatorial de 0: {fatorial_recursivo(0)}\")  # Saída: Fatorial de 0: 1\n",
        "print(f\"Fatorial de 10: {fatorial_recursivo(10)}\") # Saída: Fatorial de 10: 3628800"
      ],
      "metadata": {
        "colab": {
          "base_uri": "https://localhost:8080/"
        },
        "id": "Bg1nbgno_quk",
        "outputId": "7226ad5c-91e6-48a3-eaa7-1a6629f59873"
      },
      "execution_count": 2,
      "outputs": [
        {
          "output_type": "stream",
          "name": "stdout",
          "text": [
            "Fatorial de 5: 120\n",
            "Fatorial de 0: 1\n",
            "Fatorial de 10: 3628800\n"
          ]
        }
      ]
    },
    {
      "cell_type": "markdown",
      "source": [
        "**Explicação:**\n",
        "\n",
        "*   **Caso Base**: `if n == 0: return 1` - Quando `n` chega a 0, a recursão para e retorna 1.\n",
        "*   **Passo Recursivo**: `else: return n * fatorial_recursivo(n - 1)` - A função chama a si mesma com `n-1`, multiplicando o resultado por `n` a cada retorno da pilha.\n",
        "\n",
        "\n",
        "\n",
        "\n",
        "\n",
        "\n"
      ],
      "metadata": {
        "id": "QZ-mHB3EAUsx"
      }
    },
    {
      "cell_type": "markdown",
      "source": [
        "### **2. Sequência de Fibonacci**"
      ],
      "metadata": {
        "id": "dEmsM9Pt3OTn"
      }
    },
    {
      "cell_type": "markdown",
      "source": [
        "A sequência de Fibonacci é uma série de números onde cada número é a soma dos dois anteriores, geralmente começando com 0 e 1. A sequência é: 0, 1, 1, 2, 3, 5, 8, 13, ...\n",
        "\n",
        "**Definição Matemática:**\n",
        "\n",
        "*   `F(n) = F(n-1) + F(n-2)` para `n > 1`\n",
        "*   `F(0) = 0` (Caso Base 1)\n",
        "*   `F(1) = 1` (Caso Base 2)"
      ],
      "metadata": {
        "id": "6PeNmFKs3Q5h"
      }
    },
    {
      "cell_type": "code",
      "source": [
        "def fibonacci_recursivo(n):\n",
        "    # Casos Base: Se n for 0 ou 1, retorna o próprio n\n",
        "    if n <= 1:\n",
        "        return n\n",
        "    # Passo Recursivo: Soma dos dois termos anteriores\n",
        "    else:\n",
        "        return fibonacci_recursivo(n - 1) + fibonacci_recursivo(n - 2)"
      ],
      "metadata": {
        "id": "4kV7Hq1C3h-2"
      },
      "execution_count": 3,
      "outputs": []
    },
    {
      "cell_type": "code",
      "source": [
        "# Testando a função\n",
        "print(f\"Fibonacci de 0: {fibonacci_recursivo(0)}\")   # Saída: Fibonacci de 0: 0\n",
        "print(f\"Fibonacci de 1: {fibonacci_recursivo(1)}\")   # Saída: Fibonacci de 1: 1\n",
        "print(f\"Fibonacci de 6: {fibonacci_recursivo(6)}\")   # Saída: Fibonacci de 6: 8\n",
        "print(f\"Fibonacci de 10: {fibonacci_recursivo(10)}\") # Saída: Fibonacci de 10: 55"
      ],
      "metadata": {
        "colab": {
          "base_uri": "https://localhost:8080/"
        },
        "id": "89MsCRo13not",
        "outputId": "6f2dd639-4481-421a-9b6e-4a85f3f966c3"
      },
      "execution_count": 4,
      "outputs": [
        {
          "output_type": "stream",
          "name": "stdout",
          "text": [
            "Fibonacci de 0: 0\n",
            "Fibonacci de 1: 1\n",
            "Fibonacci de 6: 8\n",
            "Fibonacci de 10: 55\n"
          ]
        }
      ]
    },
    {
      "cell_type": "markdown",
      "source": [
        "**Explicação:**\n",
        "\n",
        "*   **Casos Base**: `if n <= 1: return n` - A recursão para quando `n` é 0 ou 1.\n",
        "*   **Passo Recursivo**: `else: return fibonacci_recursivo(n - 1) + fibonacci_recursivo(n - 2)` - A função chama a si mesma duas vezes, somando os resultados para obter o termo atual.\n",
        "\n",
        "> **Nota:** Observe que esta implementação é didática, mas ineficiente para grandes valores de `n` devido a cálculos repetidos."
      ],
      "metadata": {
        "id": "cqmdb-4N3wn4"
      }
    },
    {
      "cell_type": "markdown",
      "source": [
        "### **3. Soma de Elementos de uma Lista**"
      ],
      "metadata": {
        "id": "axd_Dtnm3p1n"
      }
    },
    {
      "cell_type": "markdown",
      "source": [
        "Vamos criar uma função recursiva para somar todos os elementos de uma lista."
      ],
      "metadata": {
        "id": "dIGPbqJb4PoF"
      }
    },
    {
      "cell_type": "code",
      "source": [
        "def soma_lista_recursiva(lista):\n",
        "    # Caso Base: Se a lista estiver vazia, a soma é 0\n",
        "    if not lista:\n",
        "        return 0\n",
        "    # Passo Recursivo: Primeiro elemento + soma do restante da lista\n",
        "    else:\n",
        "        return lista[0] + soma_lista_recursiva(lista[1:])"
      ],
      "metadata": {
        "id": "silZAJLv4Tjb"
      },
      "execution_count": null,
      "outputs": []
    },
    {
      "cell_type": "code",
      "source": [
        "# Testando a função\n",
        "minha_lista = [1, 2, 3, 4, 5]\n",
        "print(f\"Soma da lista {minha_lista}: {soma_lista_recursiva(minha_lista)}\") # Saída: Soma da lista [1, 2, 3, 4, 5]: 15\n",
        "\n",
        "outra_lista = []\n",
        "print(f\"Soma da lista {outra_lista}: {soma_lista_recursiva(outra_lista)}\")   # Saída: Soma da lista []: 0"
      ],
      "metadata": {
        "id": "Vu3cABiX4YMv"
      },
      "execution_count": null,
      "outputs": []
    },
    {
      "cell_type": "markdown",
      "source": [
        "**Explicação:**\n",
        "\n",
        "*   **Caso Base**: `if not lista: return 0` - Se a lista estiver vazia, a soma é 0.\n",
        "*   **Passo Recursivo**: `else: return lista[0] + soma_lista_recursiva(lista[1:])` - A função pega o primeiro elemento e soma com o resultado da chamada recursiva para o restante da lista (`lista[1:]`)."
      ],
      "metadata": {
        "id": "jMYOFS9U4Y9-"
      }
    },
    {
      "cell_type": "markdown",
      "source": [
        "### **4. Inverter uma String**"
      ],
      "metadata": {
        "id": "2VvB_tPB4ezs"
      }
    },
    {
      "cell_type": "markdown",
      "source": [
        "Uma função recursiva para inverter uma string."
      ],
      "metadata": {
        "id": "oZtySPGR4nlo"
      }
    },
    {
      "cell_type": "code",
      "source": [
        "def inverte_string_recursiva(s):\n",
        "    # Caso Base: Se a string estiver vazia ou tiver apenas um caractere, retorna a própria string\n",
        "    if len(s) <= 1:\n",
        "        return s\n",
        "    # Passo Recursivo: Último caractere + string invertida do restante\n",
        "    else:\n",
        "        return s[-1] + inverte_string_recursiva(s[:-1])"
      ],
      "metadata": {
        "id": "hk5WctMM4p3E"
      },
      "execution_count": null,
      "outputs": []
    },
    {
      "cell_type": "code",
      "source": [
        "# Testando a função\n",
        "print(f\"'hello' invertido: {inverte_string_recursiva('hello')}\")     # Saída: 'hello' invertido: olleh\n",
        "print(f\"'python' invertido: {inverte_string_recursiva('python')}\")   # Saída: 'python' invertido: nohtyp\n",
        "print(f\"'' invertido: {inverte_string_recursiva('')}\")         # Saída: '' invertido:\n",
        "print(f\"'a' invertido: {inverte_string_recursiva('a')}\")        # Saída: 'a' invertido: a"
      ],
      "metadata": {
        "id": "lhnMsu1U4un_"
      },
      "execution_count": null,
      "outputs": []
    },
    {
      "cell_type": "markdown",
      "source": [
        "**Explicação:**\n",
        "\n",
        "*   **Caso Base**: `if len(s) <= 1: return s` - Se a string tiver 0 ou 1 caractere, ela já está invertida.\n",
        "*   **Passo Recursivo**: `else: return s[-1] + inverte_string_recursiva(s[:-1])` - Pega o último caractere da string (`s[-1]`) e concatena com o resultado da chamada recursiva para a string sem o último caractere (`s[:-1]`)."
      ],
      "metadata": {
        "id": "_V6MucLH4y5D"
      }
    },
    {
      "cell_type": "markdown",
      "source": [
        "## **Desafios**"
      ],
      "metadata": {
        "id": "Odfa3Kli7f-D"
      }
    },
    {
      "cell_type": "markdown",
      "source": [
        "Para consolidar seu entendimento sobre recursão, tente resolver os seguintes exercícios.\n",
        "> **Nota:** Lembre-se de identificar o caso base e o passo recursivo em cada problema."
      ],
      "metadata": {
        "id": "7s74A09a5l3X"
      }
    },
    {
      "cell_type": "markdown",
      "source": [
        "### **Exercício 1: Máximo Divisor Comum (MDC)**"
      ],
      "metadata": {
        "id": "Lejua2ML6YvN"
      }
    },
    {
      "cell_type": "markdown",
      "source": [
        "Implemente uma função para encontrar o Máximo Divisor Comum (MDC) de dois números inteiros positivos usando o algoritmo de Euclides.\n",
        "\n",
        "**Algoritmo de Euclides:**\n",
        "\n",
        "*   `MDC(a, 0) = a`\n",
        "*   `MDC(a, b) = MDC(b, a % b)`\n",
        "\n",
        "**Exemplo:**\n",
        "\n",
        "```python\n",
        "mdc(48, 18) == 6\n",
        "mdc(101, 103) == 1\n",
        "```\n",
        "\n",
        "**Dica:**\n",
        "\n",
        "*   O algoritmo de Euclides já fornece o caso base e o passo recursivo. Basta traduzi-los para o código."
      ],
      "metadata": {
        "id": "m5SFG5MC6W-e"
      }
    },
    {
      "cell_type": "code",
      "source": [],
      "metadata": {
        "id": "azWjirBB6eW5"
      },
      "execution_count": null,
      "outputs": []
    },
    {
      "cell_type": "markdown",
      "source": [
        "### **Exercício 2: Potência de um Número**"
      ],
      "metadata": {
        "id": "EFsxSb9v5vXR"
      }
    },
    {
      "cell_type": "markdown",
      "source": [
        "Crie uma função recursiva para calcular a potência de um número `base` elevado a um expoente `expoente` (considere `expoente` como um inteiro não negativo).\n",
        "\n",
        "**Exemplo:**\n",
        "\n",
        "```python\n",
        "potencia(2, 3) == 8  # 2 * 2 * 2\n",
        "potencia(5, 0) == 1\n",
        "potencia(3, 4) == 81\n",
        "```\n",
        "\n",
        "**Dica:**\n",
        "\n",
        "*   Qual é o caso base quando o expoente é 0?\n",
        "*   Como você pode expressar `base^expoente` em termos de `base^(expoente-1)`?"
      ],
      "metadata": {
        "id": "gm-vEg9l53Wb"
      }
    },
    {
      "cell_type": "code",
      "source": [],
      "metadata": {
        "id": "o0etZaML54Ef"
      },
      "execution_count": null,
      "outputs": []
    },
    {
      "cell_type": "markdown",
      "source": [
        "### **Exercício 3: Palíndromo**"
      ],
      "metadata": {
        "id": "Sn633_mK56VH"
      }
    },
    {
      "cell_type": "markdown",
      "source": [
        "Crie uma função recursiva que verifique se uma string é um palíndromo (lê-se da mesma forma de trás para frente). Ignore espaços e diferenças entre maiúsculas e minúsculas.\n",
        "\n",
        "**Exemplo:**\n",
        "\n",
        "```python\n",
        "e_palindromo(\"arara\") == True\n",
        "e_palindromo(\"Ame a ema\") == True\n",
        "e_palindromo(\"hello\") == False\n",
        "```\n",
        "\n",
        "**Dica:**\n",
        "\n",
        "*   Qual é o caso base para strings vazias ou com um único caractere?\n",
        "*   Como você pode comparar os caracteres extremos e recursivamente verificar o restante da string?\n",
        "*   Considere normalizar a string (minúsculas, sem espaços) antes de iniciar a recursão."
      ],
      "metadata": {
        "id": "ooaMHySF6A98"
      }
    },
    {
      "cell_type": "code",
      "source": [],
      "metadata": {
        "id": "Jshw80nD6HzM"
      },
      "execution_count": null,
      "outputs": []
    },
    {
      "cell_type": "markdown",
      "source": [
        "### **Exercício 4: Busca Binária Recursiva**"
      ],
      "metadata": {
        "id": "Wam3apDR6waS"
      }
    },
    {
      "cell_type": "markdown",
      "source": [
        "Implemente uma função de busca binária recursiva para encontrar um elemento em uma lista ordenada. A função deve retornar o índice do elemento se encontrado, ou -1 caso contrário.\n",
        "\n",
        "**Exemplo:**\n",
        "\n",
        "```python\n",
        "lista_ordenada = [1, 5, 7, 8, 9, 12, 15, 18, 20]\n",
        "busca_binaria_recursiva(lista_ordenada, 12) == 5\n",
        "busca_binaria_recursiva(lista_ordenada, 6) == -1\n",
        "```\n",
        "\n",
        "**Dica:**\n",
        "\n",
        "*   Qual é o caso base (elemento encontrado ou sublista vazia)?\n",
        "*   Como você divide a lista ao meio e decide em qual metade continuar a busca?\n",
        "*   Você precisará de parâmetros adicionais para os índices `inicio` e `fim` da sublista atual."
      ],
      "metadata": {
        "id": "tWJSdZJi6t-h"
      }
    },
    {
      "cell_type": "code",
      "source": [],
      "metadata": {
        "id": "ZqozsmMw62az"
      },
      "execution_count": null,
      "outputs": []
    }
  ]
}